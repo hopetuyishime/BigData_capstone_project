{
 "cells": [
  {
   "metadata": {},
   "cell_type": "code",
   "source": [
    "import pandas as pd\n",
    "import numpy as np\n",
    "from sklearn.preprocessing import LabelEncoder, StandardScaler\n",
    "\n",
    "pd.set_option('display.max_columns', None)"
   ],
   "id": "c2476ae296d2720",
   "execution_count": null,
   "outputs": []
  },
  {
   "metadata": {},
   "cell_type": "code",
   "outputs": [],
   "execution_count": null,
   "source": [
    "\n",
    "df = pd.read_excel(\"Data Sheet Energy.xlsx\",header=1)\n",
    "\n",
    "# 1️⃣ Handle Missing Values\n",
    "num_cols = df.select_dtypes(include=['int64', 'float64']).columns.tolist()\n",
    "cat_cols = df.select_dtypes(include=['object']).columns.tolist()\n",
    "\n",
    "if num_cols:\n",
    "    df[num_cols] = df[num_cols].apply(lambda x: x.fillna(x.median()))\n",
    "\n",
    "if cat_cols:\n",
    "    df[cat_cols] = df[cat_cols].apply(lambda x: x.fillna(x.mode()[0]))\n",
    "\n",
    "# 2️⃣ Normalize String Formats\n",
    "for col in cat_cols:\n",
    "    df[col] = df[col].astype(str).str.strip().str.lower()\n",
    "\n",
    "# 3️⃣ Handle Outliers\n",
    "for col in num_cols:\n",
    "    lower = df[col].quantile(0.01)\n",
    "    upper = df[col].quantile(0.99)\n",
    "    df[col] = df[col].clip(lower=lower, upper=upper)\n",
    "\n",
    "# 4️⃣ Encode Categorical Variables\n",
    "label_encoders = {}\n",
    "for col in cat_cols:\n",
    "    if df[col].nunique() > 1:  # avoid encoding constant columns\n",
    "        le = LabelEncoder()\n",
    "        df[col] = le.fit_transform(df[col])\n",
    "        label_encoders[col] = le\n",
    "\n",
    "# 5️⃣ Scale Numeric Features\n",
    "if num_cols:  # ✅ check before scaling\n",
    "    scaler = StandardScaler()\n",
    "    df[num_cols] = scaler.fit_transform(df[num_cols])"
   ],
   "id": "c2f0111280d6ff81"
  },
  {
   "metadata": {
    "ExecuteTime": {
     "end_time": "2025-08-03T08:23:14.446362Z",
     "start_time": "2025-08-03T08:23:14.435450Z"
    }
   },
   "cell_type": "code",
   "source": [
    "# 6️⃣ Save Cleaned Data\n",
    "df.to_csv(\"cleaned_energy_data.csv\", index=False)\n",
    "print(\"✅ Cleaned dataset saved as 'cleaned_energy_data.csv'\")\n"
   ],
   "id": "initial_id",
   "outputs": [
    {
     "name": "stdout",
     "output_type": "stream",
     "text": [
      "✅ Cleaned dataset saved as 'cleaned_energy_data.csv'\n"
     ]
    }
   ],
   "execution_count": 20
  },
  {
   "metadata": {},
   "cell_type": "markdown",
   "source": [
    "🔑 What This Code Does\n",
    "Handles Missing Values → Uses median for numerics, mode for categorical.\n",
    "\n",
    "Cleans Text Formats → Removes spaces, converts to lowercase for consistency.\n",
    "\n",
    "Outlier Treatment → Clips values beyond 1st and 99th percentiles.\n",
    "\n",
    "Encoding → Uses LabelEncoder for categorical variables.\n",
    "\n",
    "Scaling → Standardizes numerical features for ML models.\n",
    "\n",
    "Exports Cleaned Data → Saves for later modeling or Power BI visualization."
   ],
   "id": "6747d4188ea8198f"
  },
  {
   "metadata": {
    "ExecuteTime": {
     "end_time": "2025-08-03T08:03:40.544473Z",
     "start_time": "2025-08-03T08:03:40.542051Z"
    }
   },
   "cell_type": "code",
   "source": "print(df.columns.tolist())",
   "id": "78cbba2a252eb1ed",
   "outputs": [
    {
     "name": "stdout",
     "output_type": "stream",
     "text": [
      "['House_id', 'Dwelling', 'Dwelling Grade', 'Household m2', 'Size Grade', 'Bedrooms', 'Years', 'Old', 'Heating Source', 'Area Code', 'Occupants', 'Children', 'Teenagers', 'Adults', 'Elders', 'Ainc', 'Adec', 'Agauge', 'Fulltimers', 'Parttimers', 'Grads', 'PostGrads', 'Education Index', 'Income', 'Recycling', 'Energy Class', 'Thermostats', 'Water Heater', 'Smart Plugs', 'Awareness', 'Start', 'End', 'Days', 'Kwhs', 'Kwh/day', 'Kwh/day/m2', 'HDD', 'CDD']\n"
     ]
    }
   ],
   "execution_count": 19
  }
 ],
 "metadata": {
  "kernelspec": {
   "display_name": "Python 3",
   "language": "python",
   "name": "python3"
  },
  "language_info": {
   "codemirror_mode": {
    "name": "ipython",
    "version": 2
   },
   "file_extension": ".py",
   "mimetype": "text/x-python",
   "name": "python",
   "nbconvert_exporter": "python",
   "pygments_lexer": "ipython2",
   "version": "2.7.6"
  }
 },
 "nbformat": 4,
 "nbformat_minor": 5
}
